{
 "cells": [
  {
   "cell_type": "code",
   "execution_count": null,
   "id": "01f2a2dc-833d-44a3-b301-17dd9a925851",
   "metadata": {},
   "outputs": [],
   "source": [
    "#Data Science Tools and Ecosystem"
   ]
  },
  {
   "cell_type": "code",
   "execution_count": null,
   "id": "a1164ef5-eb94-40e9-8c42-58c1636b79e7",
   "metadata": {},
   "outputs": [],
   "source": [
    "In this notebook, Data Science Tools and Ecosystem are summarized."
   ]
  },
  {
   "cell_type": "code",
   "execution_count": null,
   "id": "3e176f7d-9ace-4ac7-845e-0390eddc1c85",
   "metadata": {},
   "outputs": [],
   "source": [
    "Some of the popular languages that Data Scientists use are:\n",
    "1.Phyton\n",
    "2.R\n",
    "3.SQL\n",
    "4.SCALA\n",
    "5.Java\n",
    "6.C++"
   ]
  },
  {
   "cell_type": "code",
   "execution_count": null,
   "id": "5cc43ddc-064e-4014-9c4d-a1eb647d8d25",
   "metadata": {},
   "outputs": [],
   "source": [
    "Some of the commonly used libraries used by Data Scientists include:\n",
    "1.Pandas\n",
    "2.Numpy\n",
    "3.Big dl\n",
    "4.Sacikit-learn\n",
    "5.Vegas\n",
    "6.Apavhe Spark"
   ]
  },
  {
   "cell_type": "code",
   "execution_count": null,
   "id": "73741d91-c8e3-4ad5-a2c8-d0b9536a30a5",
   "metadata": {},
   "outputs": [],
   "source": [
    "Data Science Tools\n",
    "---------------------------\n",
    "Anaconda\n",
    "Jupyter Notebooks\n",
    "R Studio\n",
    "Spyder\n",
    "Zeppelin"
   ]
  },
  {
   "cell_type": "code",
   "execution_count": null,
   "id": "2af02c7a-ea28-40ac-aea2-47c95c44898a",
   "metadata": {},
   "outputs": [],
   "source": [
    "## Below are a few examples of evaluating arithmetic expressions in Python"
   ]
  },
  {
   "cell_type": "code",
   "execution_count": 2,
   "id": "d6b0882d-fa30-4c97-865b-8cf4c3c26161",
   "metadata": {},
   "outputs": [
    {
     "data": {
      "text/plain": [
       "17"
      ]
     },
     "execution_count": 2,
     "metadata": {},
     "output_type": "execute_result"
    }
   ],
   "source": [
    "# this a simple arithmetic expression to multiply then add integers\n",
    "(3*4)+5"
   ]
  },
  {
   "cell_type": "code",
   "execution_count": 4,
   "id": "d05030f6-a147-44e3-bcad-071cf9ee8f28",
   "metadata": {},
   "outputs": [
    {
     "data": {
      "text/plain": [
       "3.3333333333333335"
      ]
     },
     "execution_count": 4,
     "metadata": {},
     "output_type": "execute_result"
    }
   ],
   "source": [
    "# this will convert 200 minutes to hours by dividing by 60\n",
    "200 / 60"
   ]
  },
  {
   "cell_type": "code",
   "execution_count": null,
   "id": "b0e5bf11-95b3-47f0-9a31-28609be14708",
   "metadata": {},
   "outputs": [],
   "source": [
    "objetives:\n",
    "-list popular languages for data science\n",
    "-list popular tools in data science\n",
    "-list commonly used libraries in data science\n",
    "-perform aritmetic operations in phyton\n"
   ]
  },
  {
   "cell_type": "code",
   "execution_count": null,
   "id": "447db3c9-2c6a-46b5-a0d8-3257e966a870",
   "metadata": {},
   "outputs": [],
   "source": [
    "# author \n",
    "victor bandera rodriguez"
   ]
  }
 ],
 "metadata": {
  "kernelspec": {
   "display_name": "Python 3 (ipykernel)",
   "language": "python",
   "name": "python3"
  },
  "language_info": {
   "codemirror_mode": {
    "name": "ipython",
    "version": 3
   },
   "file_extension": ".py",
   "mimetype": "text/x-python",
   "name": "python",
   "nbconvert_exporter": "python",
   "pygments_lexer": "ipython3",
   "version": "3.12.7"
  }
 },
 "nbformat": 4,
 "nbformat_minor": 5
}
