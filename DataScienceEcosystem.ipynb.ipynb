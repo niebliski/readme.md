{
 "cells": [
  {
   "cell_type": "code",
   "execution_count": null,
   "id": "01f2a2dc-833d-44a3-b301-17dd9a925851",
   "metadata": {},
   "outputs": [],
   "source": [
    "Data Science Tools and Ecosystem\n"
   ]
  },
  {
   "cell_type": "code",
   "execution_count": null,
   "id": "a1164ef5-eb94-40e9-8c42-58c1636b79e7",
   "metadata": {},
   "outputs": [],
   "source": [
    "In this notebook, Data Science Tools and Ecosystem are summarized.\n"
   ]
  },
  {
   "cell_type": "code",
   "execution_count": null,
   "id": "3e176f7d-9ace-4ac7-845e-0390eddc1c85",
   "metadata": {},
   "outputs": [],
   "source": [
    "Some of the popular languages that Data Scientists use are:\n",
    "SQL\n",
    "R\n",
    "JAVA\n",
    "PHYTON\n"
   ]
  },
  {
   "cell_type": "code",
   "execution_count": null,
   "id": "5cc43ddc-064e-4014-9c4d-a1eb647d8d25",
   "metadata": {},
   "outputs": [],
   "source": [
    "Some of the commonly used libraries used by Data Scientists include:\n",
    "LIBRERIA 1\n",
    "LIBRERIA 2\n"
   ]
  },
  {
   "cell_type": "code",
   "execution_count": null,
   "id": "73741d91-c8e3-4ad5-a2c8-d0b9536a30a5",
   "metadata": {},
   "outputs": [],
   "source": [
    "Data Science Tools\n",
    "EXCEL\n",
    "TABLEAU\n",
    "POWER BI\n"
   ]
  },
  {
   "cell_type": "code",
   "execution_count": null,
   "id": "2af02c7a-ea28-40ac-aea2-47c95c44898a",
   "metadata": {},
   "outputs": [],
   "source": [
    "Below are a few examples of evaluating arithmetic expressions in Python\n"
   ]
  },
  {
   "cell_type": "code",
   "execution_count": 3,
   "id": "13e00846-0937-4804-a011-7f4cae74174e",
   "metadata": {},
   "outputs": [
    {
     "data": {
      "text/plain": [
       "3"
      ]
     },
     "execution_count": 3,
     "metadata": {},
     "output_type": "execute_result"
    }
   ],
   "source": [
    "3"
   ]
  },
  {
   "cell_type": "code",
   "execution_count": 5,
   "id": "0ef42f68-0c36-4163-9ac5-2f40c0c03729",
   "metadata": {},
   "outputs": [
    {
     "data": {
      "text/plain": [
       "4"
      ]
     },
     "execution_count": 5,
     "metadata": {},
     "output_type": "execute_result"
    }
   ],
   "source": [
    "4"
   ]
  },
  {
   "cell_type": "code",
   "execution_count": 7,
   "id": "6a0cd76d-bf0d-4087-b30f-4f390256b3db",
   "metadata": {},
   "outputs": [
    {
     "data": {
      "text/plain": [
       "5"
      ]
     },
     "execution_count": 7,
     "metadata": {},
     "output_type": "execute_result"
    }
   ],
   "source": [
    "5"
   ]
  },
  {
   "cell_type": "code",
   "execution_count": 9,
   "id": "375b111a-2f4a-4882-ae1d-f740316250b4",
   "metadata": {},
   "outputs": [
    {
     "data": {
      "text/plain": [
       "17"
      ]
     },
     "execution_count": 9,
     "metadata": {},
     "output_type": "execute_result"
    }
   ],
   "source": [
    "(3*4)+5"
   ]
  },
  {
   "cell_type": "code",
   "execution_count": 11,
   "id": "562e8289-58d5-4407-a046-105e196918ea",
   "metadata": {},
   "outputs": [],
   "source": [
    "# Function to convert minutes to hours\n",
    "def convert_minutes_to_hours(minutes):\n",
    "    hours = minutes / 60\n",
    "    return hours\n",
    "    "
   ]
  },
  {
   "cell_type": "code",
   "execution_count": 13,
   "id": "55aecdce-9693-4fb8-acf7-9da6ed66459f",
   "metadata": {},
   "outputs": [
    {
     "name": "stdout",
     "output_type": "stream",
     "text": [
      "200 minutes is equal to 3.3333333333333335 hours\n"
     ]
    }
   ],
   "source": [
    "minutes = 200\n",
    "hours = convert_minutes_to_hours(minutes)\n",
    "print(f\"{minutes} minutes is equal to {hours} hours\")"
   ]
  },
  {
   "cell_type": "code",
   "execution_count": null,
   "id": "b0e5bf11-95b3-47f0-9a31-28609be14708",
   "metadata": {},
   "outputs": [],
   "source": [
    "objetives\n",
    "ob1\n",
    "ob2\n",
    "ob3\n",
    "ob4\n",
    "ob5\n"
   ]
  },
  {
   "cell_type": "code",
   "execution_count": null,
   "id": "447db3c9-2c6a-46b5-a0d8-3257e966a870",
   "metadata": {},
   "outputs": [],
   "source": [
    "autor victor bandera rodriguez"
   ]
  },
  {
   "cell_type": "code",
   "execution_count": null,
   "id": "e439b215-c675-436d-94c3-b6b411da1665",
   "metadata": {},
   "outputs": [],
   "source": []
  }
 ],
 "metadata": {
  "kernelspec": {
   "display_name": "Python 3 (ipykernel)",
   "language": "python",
   "name": "python3"
  },
  "language_info": {
   "codemirror_mode": {
    "name": "ipython",
    "version": 3
   },
   "file_extension": ".py",
   "mimetype": "text/x-python",
   "name": "python",
   "nbconvert_exporter": "python",
   "pygments_lexer": "ipython3",
   "version": "3.12.7"
  }
 },
 "nbformat": 4,
 "nbformat_minor": 5
}
